{
 "cells": [
  {
   "cell_type": "markdown",
   "metadata": {},
   "source": [
    "# Problem 1 - Working with RDDs\n",
    "\n",
    "**Do not insert any additional cells than the ones that are provided.**\n",
    "\n",
    "Create your SparkContext and SparkSession:"
   ]
  },
  {
   "cell_type": "code",
   "execution_count": 1,
   "metadata": {},
   "outputs": [
    {
     "data": {
      "text/html": [
       "\n",
       "        <div>\n",
       "            <p><b>SparkContext</b></p>\n",
       "\n",
       "            <p><a href=\"http://ip-172-31-66-180.ec2.internal:4040\">Spark UI</a></p>\n",
       "\n",
       "            <dl>\n",
       "              <dt>Version</dt>\n",
       "                <dd><code>v2.4.4</code></dd>\n",
       "              <dt>Master</dt>\n",
       "                <dd><code>yarn</code></dd>\n",
       "              <dt>AppName</dt>\n",
       "                <dd><code>pyspark-shell</code></dd>\n",
       "            </dl>\n",
       "        </div>\n",
       "        "
      ],
      "text/plain": [
       "<SparkContext master=yarn appName=pyspark-shell>"
      ]
     },
     "execution_count": 1,
     "metadata": {},
     "output_type": "execute_result"
    }
   ],
   "source": [
    "import findspark\n",
    "findspark.init()\n",
    "from pyspark import SparkContext\n",
    "sc = SparkContext()\n",
    "sc"
   ]
  },
  {
   "cell_type": "markdown",
   "metadata": {},
   "source": [
    "In the following cell, make an RDD called `top1m` that contains the contents of the file `top-1m.csv` that you placed into the cluster's HDFS."
   ]
  },
  {
   "cell_type": "code",
   "execution_count": 2,
   "metadata": {},
   "outputs": [
    {
     "data": {
      "text/plain": [
       "['1,google.com',\n",
       " '2,youtube.com',\n",
       " '3,facebook.com',\n",
       " '4,baidu.com',\n",
       " '5,wikipedia.org']"
      ]
     },
     "execution_count": 2,
     "metadata": {},
     "output_type": "execute_result"
    }
   ],
   "source": [
    "top1m = sc.textFile('top-1m.csv')\n",
    "top1m.take(5)"
   ]
  },
  {
   "cell_type": "markdown",
   "metadata": {},
   "source": [
    "## Count the `.com` domains\n",
    "\n",
    "How many of the websites in this RDD are in the .com domain?\n",
    "\n",
    "In the following cell, write a code snippet using a Regular Expression that finds the records with `.com` and counts them."
   ]
  },
  {
   "cell_type": "code",
   "execution_count": 32,
   "metadata": {},
   "outputs": [
    {
     "data": {
      "text/plain": [
       "484593"
      ]
     },
     "execution_count": 32,
     "metadata": {},
     "output_type": "execute_result"
    }
   ],
   "source": [
    "import re\n",
    "find_com = re.compile(\"\\.com$\")\n",
    "\n",
    "def comfunc(com):\n",
    "    if find_com.search(com):\n",
    "        return com\n",
    "    \n",
    "number_of_com = top1m.filter(comfunc).count()\n",
    "number_of_com"
   ]
  },
  {
   "cell_type": "markdown",
   "metadata": {},
   "source": [
    "## Histogram the Top Level Domains (TLDs)\n",
    "\n",
    "What is the distribution of TLDs in the top 1 million websites? We can quickly compute this using the RDD function `countByValue()`."
   ]
  },
  {
   "cell_type": "markdown",
   "metadata": {},
   "source": [
    "In the following cell, write a function called `tld` (in Python) that takes a domain name string and outputs the top-level domain."
   ]
  },
  {
   "cell_type": "code",
   "execution_count": 38,
   "metadata": {},
   "outputs": [],
   "source": [
    "def tld(x):\n",
    "    return(x.split(\".\")[-1])"
   ]
  },
  {
   "cell_type": "markdown",
   "metadata": {},
   "source": [
    "In the following cell, map the `top1m` RDD using `tld` into a new RDD called `tlds`. "
   ]
  },
  {
   "cell_type": "code",
   "execution_count": 39,
   "metadata": {},
   "outputs": [],
   "source": [
    "tlds = top1m.map(lambda x: tld(x))"
   ]
  },
  {
   "cell_type": "markdown",
   "metadata": {},
   "source": [
    "In the following two cells, evaluate `top1m.first()` and  `tlds.first()` to see if the first line of `top1m` transformed by `tld` is properly represented as the first line of `tlds`. "
   ]
  },
  {
   "cell_type": "code",
   "execution_count": 40,
   "metadata": {},
   "outputs": [
    {
     "data": {
      "text/plain": [
       "'1,google.com'"
      ]
     },
     "execution_count": 40,
     "metadata": {},
     "output_type": "execute_result"
    }
   ],
   "source": [
    "top1m.first()"
   ]
  },
  {
   "cell_type": "code",
   "execution_count": 41,
   "metadata": {},
   "outputs": [
    {
     "data": {
      "text/plain": [
       "'com'"
      ]
     },
     "execution_count": 41,
     "metadata": {},
     "output_type": "execute_result"
    }
   ],
   "source": [
    "tlds.first()"
   ]
  },
  {
   "cell_type": "markdown",
   "metadata": {},
   "source": [
    "Look at the first 50 elements of `top1m` by evaluating `top1m.take(50)`."
   ]
  },
  {
   "cell_type": "code",
   "execution_count": 42,
   "metadata": {},
   "outputs": [
    {
     "data": {
      "text/plain": [
       "['1,google.com',\n",
       " '2,youtube.com',\n",
       " '3,facebook.com',\n",
       " '4,baidu.com',\n",
       " '5,wikipedia.org',\n",
       " '6,yahoo.com',\n",
       " '7,qq.com',\n",
       " '8,amazon.com',\n",
       " '9,taobao.com',\n",
       " '10,twitter.com',\n",
       " '11,google.co.in',\n",
       " '12,tmall.com',\n",
       " '13,instagram.com',\n",
       " '14,live.com',\n",
       " '15,vk.com',\n",
       " '16,sohu.com',\n",
       " '17,jd.com',\n",
       " '18,sina.com.cn',\n",
       " '19,reddit.com',\n",
       " '20,weibo.com',\n",
       " '21,google.co.jp',\n",
       " '22,yandex.ru',\n",
       " '23,360.cn',\n",
       " '24,blogspot.com',\n",
       " '25,login.tmall.com',\n",
       " '26,linkedin.com',\n",
       " '27,pornhub.com',\n",
       " '28,google.ru',\n",
       " '29,netflix.com',\n",
       " '30,google.com.br',\n",
       " '31,google.com.hk',\n",
       " '32,google.co.uk',\n",
       " '33,bongacams.com',\n",
       " '34,yahoo.co.jp',\n",
       " '35,google.fr',\n",
       " '36,csdn.net',\n",
       " '37,t.co',\n",
       " '38,google.de',\n",
       " '39,ebay.com',\n",
       " '40,microsoft.com',\n",
       " '41,alipay.com',\n",
       " '42,office.com',\n",
       " '43,twitch.tv',\n",
       " '44,msn.com',\n",
       " '45,bing.com',\n",
       " '46,xvideos.com',\n",
       " '47,microsoftonline.com',\n",
       " '48,mail.ru',\n",
       " '49,pages.tmall.com',\n",
       " '50,ok.ru']"
      ]
     },
     "execution_count": 42,
     "metadata": {},
     "output_type": "execute_result"
    }
   ],
   "source": [
    "top1m.take(50)"
   ]
  },
  {
   "cell_type": "markdown",
   "metadata": {},
   "source": [
    "Try the same thing with the `tlds` RDD to make sure that the first 50 lines were properly transformed.\n"
   ]
  },
  {
   "cell_type": "code",
   "execution_count": 43,
   "metadata": {},
   "outputs": [
    {
     "data": {
      "text/plain": [
       "['com',\n",
       " 'com',\n",
       " 'com',\n",
       " 'com',\n",
       " 'org',\n",
       " 'com',\n",
       " 'com',\n",
       " 'com',\n",
       " 'com',\n",
       " 'com',\n",
       " 'in',\n",
       " 'com',\n",
       " 'com',\n",
       " 'com',\n",
       " 'com',\n",
       " 'com',\n",
       " 'com',\n",
       " 'cn',\n",
       " 'com',\n",
       " 'com',\n",
       " 'jp',\n",
       " 'ru',\n",
       " 'cn',\n",
       " 'com',\n",
       " 'com',\n",
       " 'com',\n",
       " 'com',\n",
       " 'ru',\n",
       " 'com',\n",
       " 'br',\n",
       " 'hk',\n",
       " 'uk',\n",
       " 'com',\n",
       " 'jp',\n",
       " 'fr',\n",
       " 'net',\n",
       " 'co',\n",
       " 'de',\n",
       " 'com',\n",
       " 'com',\n",
       " 'com',\n",
       " 'com',\n",
       " 'tv',\n",
       " 'com',\n",
       " 'com',\n",
       " 'com',\n",
       " 'com',\n",
       " 'ru',\n",
       " 'com',\n",
       " 'ru']"
      ]
     },
     "execution_count": 43,
     "metadata": {},
     "output_type": "execute_result"
    }
   ],
   "source": [
    "tlds.take(50)"
   ]
  },
  {
   "cell_type": "markdown",
   "metadata": {},
   "source": [
    "At this point, `tlds.countByValue()` would give us a list of each TLD and the number of times that it appears in the top1m file. Note that this function returns the results as a `defaultDict` in the Python environemnt, not as an RDD. But we want it reverse sorted by count. To do this, we can set a variable called `tlds_and_counts` equal to `tlds.countByValue()` and then reverse the order, sort, and take the top 50, like this:\n",
    "\n",
    "```\n",
    "tlds_and_counts = tlds.countByValue()\n",
    "counts_and_tlds = [(count,domain) for (domain,count) in tlds_and_counts.items()]\n",
    "```\n",
    "\n",
    "In the following cell, run the code above to produce the Python Dictionary."
   ]
  },
  {
   "cell_type": "code",
   "execution_count": 44,
   "metadata": {},
   "outputs": [],
   "source": [
    "tlds_and_counts = tlds.countByValue()\n",
    "counts_and_tlds = [(count,domain) for (domain,count) in tlds_and_counts.items()]"
   ]
  },
  {
   "cell_type": "markdown",
   "metadata": {},
   "source": [
    "In the following cell, reverse sort `counts_and_tlds` and display the first 50."
   ]
  },
  {
   "cell_type": "code",
   "execution_count": 50,
   "metadata": {},
   "outputs": [
    {
     "data": {
      "text/plain": [
       "[(484593, 'com'),\n",
       " (45610, 'org'),\n",
       " (41336, 'net'),\n",
       " (40239, 'ru'),\n",
       " (34374, 'de'),\n",
       " (28186, 'br'),\n",
       " (18616, 'uk'),\n",
       " (16903, 'pl'),\n",
       " (15507, 'ir'),\n",
       " (12239, 'it'),\n",
       " (12041, 'in'),\n",
       " (10346, 'fr'),\n",
       " (9411, 'au'),\n",
       " (8753, 'jp'),\n",
       " (8414, 'info'),\n",
       " (8070, 'cz'),\n",
       " (6518, 'es'),\n",
       " (6340, 'nl'),\n",
       " (6262, 'ua'),\n",
       " (6086, 'co'),\n",
       " (5706, 'cn'),\n",
       " (5634, 'ca'),\n",
       " (5596, 'io'),\n",
       " (5246, 'tw'),\n",
       " (5009, 'eu'),\n",
       " (4812, 'kr'),\n",
       " (4794, 'gr'),\n",
       " (4788, 'ch'),\n",
       " (4512, 'mx'),\n",
       " (3841, 'ro'),\n",
       " (3836, 'se'),\n",
       " (3631, 'no'),\n",
       " (3608, 'at'),\n",
       " (3484, 'me'),\n",
       " (3469, 'tv'),\n",
       " (3392, 'be'),\n",
       " (3267, 'za'),\n",
       " (3266, 'hu'),\n",
       " (3076, 'vn'),\n",
       " (3039, 'sk'),\n",
       " (3020, 'us'),\n",
       " (3013, 'ar'),\n",
       " (2798, 'edu'),\n",
       " (2769, 'dk'),\n",
       " (2553, 'tr'),\n",
       " (2439, 'pt'),\n",
       " (2300, 'biz'),\n",
       " (2256, 'cl'),\n",
       " (2228, 'id'),\n",
       " (2154, 'fi')]"
      ]
     },
     "execution_count": 50,
     "metadata": {},
     "output_type": "execute_result"
    }
   ],
   "source": [
    "counts_and_tlds.sort(reverse=True)\n",
    "counts_and_tlds[:50]"
   ]
  },
  {
   "cell_type": "markdown",
   "metadata": {},
   "source": [
    "**Question:** `top1m.collect()[0:50]` and `top1m.take(50)` produce the same result. Which one is more efficient and why? Put your answer in the cell below."
   ]
  },
  {
   "cell_type": "code",
   "execution_count": 53,
   "metadata": {},
   "outputs": [],
   "source": [
    "## Answer Here (don't run this cell)\n",
    "## top1m.take(50) is faster than top1m.collect()[0:50], because take only go through the first 50 elements of RDD\n",
    "## and out put the first 50 elements, whereas collect go through the entire RDD and then output the top 50."
   ]
  },
  {
   "cell_type": "markdown",
   "metadata": {},
   "source": [
    "When you finish this problem, click on the File -> 'Save and Checkpoint' in the menu bar to make sure that the latest version of the workbook file is saved. Also, before you close this notebook and move on, make sure you disconnect your SparkContext, otherwise you will not be able to re-allocate resources. Remember, you will commit the .ipynb file to the repository for submission (in the master node terminal.)"
   ]
  },
  {
   "cell_type": "code",
   "execution_count": 54,
   "metadata": {},
   "outputs": [],
   "source": [
    "sc.stop()"
   ]
  }
 ],
 "metadata": {
  "kernelspec": {
   "display_name": "Python 3",
   "language": "python",
   "name": "python3"
  },
  "language_info": {
   "codemirror_mode": {
    "name": "ipython",
    "version": 3
   },
   "file_extension": ".py",
   "mimetype": "text/x-python",
   "name": "python",
   "nbconvert_exporter": "python",
   "pygments_lexer": "ipython3",
   "version": "3.7.6"
  }
 },
 "nbformat": 4,
 "nbformat_minor": 4
}
